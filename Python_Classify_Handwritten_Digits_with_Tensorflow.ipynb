{
  "cells": [
    {
      "cell_type": "markdown",
      "id": "71995745-9dbd-41bc-a6ae-81c6723fbe08",
      "metadata": {
        "id": "71995745-9dbd-41bc-a6ae-81c6723fbe08"
      },
      "source": [
        "# Python | Classify Handwritten Digits with Tensorflow"
      ]
    },
    {
      "cell_type": "markdown",
      "id": "5f5a38fd-eeb1-4f9d-b6c9-092e78839cd7",
      "metadata": {
        "id": "5f5a38fd-eeb1-4f9d-b6c9-092e78839cd7"
      },
      "source": [
        "this is a basic problem in machine learning, I will use a linear Classifier Algorithm with tf.contrib.learn"
      ]
    },
    {
      "cell_type": "markdown",
      "id": "58b22316-6cf0-44b4-8b44-473bf5f64d89",
      "metadata": {
        "id": "58b22316-6cf0-44b4-8b44-473bf5f64d89"
      },
      "source": [
        "### Importing all dependence"
      ]
    },
    {
      "cell_type": "code",
      "execution_count": 1,
      "id": "f8eb1dbc-2c82-49b3-bf9c-9f771bd7fb5e",
      "metadata": {
        "id": "f8eb1dbc-2c82-49b3-bf9c-9f771bd7fb5e"
      },
      "outputs": [],
      "source": [
        "import numpy as np\n",
        "import matplotlib.pyplot as plt\n",
        "import tensorflow  as tf\n",
        "import logging\n",
        "\n",
        "learn = tf.estimator\n",
        "\n",
        "logging.getLogger(\"tensorflow\").setLevel(logging.ERROR)"
      ]
    },
    {
      "cell_type": "markdown",
      "id": "e4263b7e-2037-4baa-b41a-0bf2bd1c1ce5",
      "metadata": {
        "id": "e4263b7e-2037-4baa-b41a-0bf2bd1c1ce5"
      },
      "source": [
        "## I mporting Dataset using MNIST Data"
      ]
    },
    {
      "cell_type": "code",
      "execution_count": 2,
      "id": "4b3c3b59-548b-475f-828c-8ecc37f9d0e4",
      "metadata": {
        "colab": {
          "base_uri": "https://localhost:8080/",
          "height": 84,
          "referenced_widgets": [
            "aa2b215ed86244fa8e3c35b590697504",
            "e0ee1fc07823452191d652cec271f748",
            "ebb26c7f7ef84bbc8b559c815ea0774b",
            "ad6d3327d2924302b443844c0f622c87",
            "995e4791fb824d39a3300a735c169331",
            "c5748bf5479844ae9ff4ea5f237d2e6f",
            "e0a9aebc51e94caab170ec72d23f07b0",
            "696f998a42ab4431b5f3c15e9c472c60",
            "38bb12ebbaf84925b2547c295558a7a9",
            "bb8f8ba8f0114b5890c37e9cd024cc5a",
            "e4fc179b94ef4db7b31f07204179dd33"
          ]
        },
        "id": "4b3c3b59-548b-475f-828c-8ecc37f9d0e4",
        "outputId": "316f7f0e-69b9-47d4-99ea-71dd5486ec8b"
      },
      "outputs": [
        {
          "output_type": "stream",
          "name": "stdout",
          "text": [
            "Downloading and preparing dataset 11.06 MiB (download: 11.06 MiB, generated: 21.00 MiB, total: 32.06 MiB) to /root/tensorflow_datasets/mnist/3.0.1...\n"
          ]
        },
        {
          "output_type": "display_data",
          "data": {
            "text/plain": [
              "Dl Completed...:   0%|          | 0/5 [00:00<?, ? file/s]"
            ],
            "application/vnd.jupyter.widget-view+json": {
              "version_major": 2,
              "version_minor": 0,
              "model_id": "aa2b215ed86244fa8e3c35b590697504"
            }
          },
          "metadata": {}
        },
        {
          "output_type": "stream",
          "name": "stdout",
          "text": [
            "Dataset mnist downloaded and prepared to /root/tensorflow_datasets/mnist/3.0.1. Subsequent calls will reuse this data.\n"
          ]
        }
      ],
      "source": [
        "import tensorflow_datasets as tfds\n",
        "# Load the MNIST dataset\n",
        "mnist_dataset, mnist_info = tfds.load('mnist', with_info=True, as_supervised=True)\n",
        "\n",
        "# The dataset is split into train and test datasets\n",
        "mnist_train, mnist_test = mnist_dataset['train'], mnist_dataset['test']\n",
        "\n",
        "# Convert the samples from tensors to numpy arrays\n",
        "train_images = []\n",
        "train_labels = []\n",
        "for example in tfds.as_dataframe(mnist_train, mnist_info).itertuples():\n",
        "    image = np.array(example.image).flatten()  # Flatten the image here\n",
        "    label = example.label\n",
        "    train_images.append(image)\n",
        "    train_labels.append(label)\n",
        "\n",
        "test_images = []\n",
        "test_labels = []\n",
        "for example in tfds.as_dataframe(mnist_test, mnist_info).itertuples():\n",
        "    image = np.array(example.image).flatten()  # Flatten the image\n",
        "    label = example.label\n",
        "    test_images.append(image)\n",
        "    test_labels.append(label)\n",
        "\n",
        "# Convert lists to numpy arrays\n",
        "data = np.array(train_images)\n",
        "labels = np.array(train_labels, dtype=np.int32)\n",
        "test_data = np.array(test_images)\n",
        "test_labels = np.array(test_labels, dtype=np.int32)\n"
      ]
    },
    {
      "cell_type": "markdown",
      "id": "2456a1d9-2bb4-4d01-9586-241abc75158c",
      "metadata": {
        "id": "2456a1d9-2bb4-4d01-9586-241abc75158c"
      },
      "source": [
        "### Making the dataset"
      ]
    },
    {
      "cell_type": "code",
      "execution_count": 3,
      "id": "e4fc03b5-b5e4-41c3-8be7-35dbbb695af4",
      "metadata": {
        "id": "e4fc03b5-b5e4-41c3-8be7-35dbbb695af4"
      },
      "outputs": [],
      "source": [
        "max_examples = 10000\n",
        "data = data[:max_examples]\n",
        "labels = labels[:max_examples]"
      ]
    },
    {
      "cell_type": "markdown",
      "id": "1466f0c2-d8ac-4feb-afe1-0a0983fd2fe9",
      "metadata": {
        "id": "1466f0c2-d8ac-4feb-afe1-0a0983fd2fe9"
      },
      "source": [
        "# Display the dataset"
      ]
    },
    {
      "cell_type": "code",
      "execution_count": 4,
      "id": "32760718-d0ee-4294-b406-21026eb59662",
      "metadata": {
        "colab": {
          "base_uri": "https://localhost:8080/",
          "height": 452
        },
        "id": "32760718-d0ee-4294-b406-21026eb59662",
        "outputId": "75f9f411-9471-445b-a2e8-52aa77d7e9df"
      },
      "outputs": [
        {
          "output_type": "display_data",
          "data": {
            "text/plain": [
              "<Figure size 640x480 with 1 Axes>"
            ],
            "image/png": "[encoded data removed]"
          },
          "metadata": {}
        }
      ],
      "source": [
        "def display(i):\n",
        "    img = test_data[i]\n",
        "    plt.title('label: {}'.format(test_labels[i]))\n",
        "    plt.imshow(img.reshape((28,28)))\n",
        "    plt.show()\n",
        "\n",
        "# the image is a tensor of 28 x 28 px\n",
        "display(0)"
      ]
    },
    {
      "cell_type": "markdown",
      "id": "da076058-c6f4-4a1c-b67c-9c70a469a492",
      "metadata": {
        "id": "da076058-c6f4-4a1c-b67c-9c70a469a492"
      },
      "source": [
        "### Fitting the data and using the Linear Classifier"
      ]
    },
    {
      "cell_type": "code",
      "source": [
        "# data is a 2D numpy array\n",
        "num_pixels = data.shape[1]\n",
        "num_pixels"
      ],
      "metadata": {
        "colab": {
          "base_uri": "https://localhost:8080/"
        },
        "id": "6dBS5LxpWAnr",
        "outputId": "59b6b06c-fa58-46b3-cca8-1ec5bfaa5bc4"
      },
      "id": "6dBS5LxpWAnr",
      "execution_count": 5,
      "outputs": [
        {
          "output_type": "execute_result",
          "data": {
            "text/plain": [
              "784"
            ]
          },
          "metadata": {},
          "execution_count": 5
        }
      ]
    },
    {
      "cell_type": "code",
      "execution_count": 7,
      "id": "01cb4165-f11b-48a1-b831-f94eb306ad1f",
      "metadata": {
        "colab": {
          "base_uri": "https://localhost:8080/"
        },
        "id": "01cb4165-f11b-48a1-b831-f94eb306ad1f",
        "outputId": "81d60781-69c5-4dfd-9e42-9f4da949e1fc"
      },
      "outputs": [
        {
          "output_type": "execute_result",
          "data": {
            "text/plain": [
              "<tensorflow_estimator.python.estimator.canned.linear.LinearClassifierV2 at 0x7d105068e5c0>"
            ]
          },
          "metadata": {},
          "execution_count": 7
        }
      ],
      "source": [
        "feature_columns = [tf.feature_column.numeric_column(\"x\", shape=[num_pixels])]\n",
        "\n",
        "# Define the classifier\n",
        "classifier = tf.estimator.LinearClassifier(\n",
        "    n_classes=10,\n",
        "    feature_columns=feature_columns\n",
        ")\n",
        "\n",
        "# Define the input function\n",
        "input_fn = tf.compat.v2.compat.v1.estimator.inputs.numpy_input_fn(\n",
        "    x={\"x\": data},\n",
        "    y=labels,\n",
        "    batch_size=100,\n",
        "    num_epochs=None,\n",
        "    shuffle=True\n",
        ")\n",
        "\n",
        "# Train the model\n",
        "classifier.train(input_fn=input_fn, steps=1000)\n"
      ]
    },
    {
      "cell_type": "markdown",
      "id": "4316c5e9-bd2d-4343-be9d-b274d0534d1c",
      "metadata": {
        "id": "4316c5e9-bd2d-4343-be9d-b274d0534d1c"
      },
      "source": [
        "### Eevaluataing accuracy"
      ]
    },
    {
      "cell_type": "code",
      "execution_count": 10,
      "id": "8b952c69-e8ee-4f9e-bce1-b0193adf84ac",
      "metadata": {
        "colab": {
          "base_uri": "https://localhost:8080/"
        },
        "id": "8b952c69-e8ee-4f9e-bce1-b0193adf84ac",
        "outputId": "5cacb297-ba99-4666-bf8e-919598879cfb"
      },
      "outputs": [
        {
          "output_type": "stream",
          "name": "stdout",
          "text": [
            "0.8774\n"
          ]
        }
      ],
      "source": [
        "# Define the input function for evaluation\n",
        "eval_input_fn = tf.compat.v2.compat.v1.estimator.inputs.numpy_input_fn(\n",
        "    x={\"x\": test_data},\n",
        "    y=test_labels,\n",
        "    num_epochs=1,\n",
        "    shuffle=False\n",
        ")\n",
        "\n",
        "# Evaluate the model\n",
        "eval_results = classifier.evaluate(input_fn=eval_input_fn)\n",
        "print(eval_results['accuracy'])\n"
      ]
    },
    {
      "cell_type": "markdown",
      "id": "225438b7-858b-4aab-9849-feb7f851b720",
      "metadata": {
        "id": "225438b7-858b-4aab-9849-feb7f851b720"
      },
      "source": [
        "### Predicting Data"
      ]
    },
    {
      "cell_type": "code",
      "execution_count": 12,
      "id": "d7062fec-d18b-416e-a352-af7ed28a0798",
      "metadata": {
        "colab": {
          "base_uri": "https://localhost:8080/",
          "height": 447
        },
        "id": "d7062fec-d18b-416e-a352-af7ed28a0798",
        "outputId": "d5ee6f7c-a498-4d93-a2d0-2bbce1a9a511"
      },
      "outputs": [
        {
          "output_type": "stream",
          "name": "stdout",
          "text": [
            "Predicted class: 2, Actual label: 2\n"
          ]
        },
        {
          "output_type": "display_data",
          "data": {
            "text/plain": [
              "<Figure size 640x480 with 1 Axes>"
            ],
            "image/png": "[encoded data removed]"
          },
          "metadata": {}
        }
      ],
      "source": [
        "# Define the input function for prediction\n",
        "predict_input_fn = tf.compat.v2.compat.v1.estimator.inputs.numpy_input_fn(\n",
        "    x={\"x\": np.array([test_data[0]], dtype=float)},\n",
        "    num_epochs=1,\n",
        "    shuffle=False\n",
        ")\n",
        "\n",
        "# Get the predictions\n",
        "predictions = classifier.predict(input_fn=predict_input_fn)\n",
        "\n",
        "# The predictions are returned as a generator, so we use next() to get the first one\n",
        "prediction = next(predictions)\n",
        "\n",
        "# Print the predicted and actual labels\n",
        "print(\"Predicted class: {}, Actual label: {}\".format(prediction['class_ids'][0], test_labels[0]))\n",
        "\n",
        "# Display the image\n",
        "plt.imshow(test_data[0].reshape(28, 28), cmap='gray')\n",
        "plt.show()\n"
      ]
    }
  ],
  "metadata": {
    "kernelspec": {
      "display_name": "Python 3 (ipykernel)",
      "language": "python",
      "name": "python3"
    },
    "language_info": {
      "codemirror_mode": {
        "name": "ipython",
        "version": 3
      },
      "file_extension": ".py",
      "mimetype": "text/x-python",
      "name": "python",
      "nbconvert_exporter": "python",
      "pygments_lexer": "ipython3",
      "version": "3.11.5"
    },
    "colab": {
      "provenance": []
    },
    "widgets": {
      "application/vnd.jupyter.widget-state+json": {
        "aa2b215ed86244fa8e3c35b590697504": {
          "model_module": "@jupyter-widgets/controls",
          "model_name": "HBoxModel",
          "model_module_version": "1.5.0",
          "state": {
            "_dom_classes": [],
            "_model_module": "@jupyter-widgets/controls",
            "_model_module_version": "1.5.0",
            "_model_name": "HBoxModel",
            "_view_count": null,
            "_view_module": "@jupyter-widgets/controls",
            "_view_module_version": "1.5.0",
            "_view_name": "HBoxView",
            "box_style": "",
            "children": [
              "IPY_MODEL_e0ee1fc07823452191d652cec271f748",
              "IPY_MODEL_ebb26c7f7ef84bbc8b559c815ea0774b",
              "IPY_MODEL_ad6d3327d2924302b443844c0f622c87"
            ],
            "layout": "IPY_MODEL_995e4791fb824d39a3300a735c169331"
          }
        },
        "e0ee1fc07823452191d652cec271f748": {
          "model_module": "@jupyter-widgets/controls",
          "model_name": "HTMLModel",
          "model_module_version": "1.5.0",
          "state": {
            "_dom_classes": [],
            "_model_module": "@jupyter-widgets/controls",
            "_model_module_version": "1.5.0",
            "_model_name": "HTMLModel",
            "_view_count": null,
            "_view_module": "@jupyter-widgets/controls",
            "_view_module_version": "1.5.0",
            "_view_name": "HTMLView",
            "description": "",
            "description_tooltip": null,
            "layout": "IPY_MODEL_c5748bf5479844ae9ff4ea5f237d2e6f",
            "placeholder": "​",
            "style": "IPY_MODEL_e0a9aebc51e94caab170ec72d23f07b0",
            "value": "Dl Completed...: 100%"
          }
        },
        "ebb26c7f7ef84bbc8b559c815ea0774b": {
          "model_module": "@jupyter-widgets/controls",
          "model_name": "FloatProgressModel",
          "model_module_version": "1.5.0",
          "state": {
            "_dom_classes": [],
            "_model_module": "@jupyter-widgets/controls",
            "_model_module_version": "1.5.0",
            "_model_name": "FloatProgressModel",
            "_view_count": null,
            "_view_module": "@jupyter-widgets/controls",
            "_view_module_version": "1.5.0",
            "_view_name": "ProgressView",
            "bar_style": "success",
            "description": "",
            "description_tooltip": null,
            "layout": "IPY_MODEL_696f998a42ab4431b5f3c15e9c472c60",
            "max": 5,
            "min": 0,
            "orientation": "horizontal",
            "style": "IPY_MODEL_38bb12ebbaf84925b2547c295558a7a9",
            "value": 5
          }
        },
        "ad6d3327d2924302b443844c0f622c87": {
          "model_module": "@jupyter-widgets/controls",
          "model_name": "HTMLModel",
          "model_module_version": "1.5.0",
          "state": {
            "_dom_classes": [],
            "_model_module": "@jupyter-widgets/controls",
            "_model_module_version": "1.5.0",
            "_model_name": "HTMLModel",
            "_view_count": null,
            "_view_module": "@jupyter-widgets/controls",
            "_view_module_version": "1.5.0",
            "_view_name": "HTMLView",
            "description": "",
            "description_tooltip": null,
            "layout": "IPY_MODEL_bb8f8ba8f0114b5890c37e9cd024cc5a",
            "placeholder": "​",
            "style": "IPY_MODEL_e4fc179b94ef4db7b31f07204179dd33",
            "value": " 5/5 [00:00&lt;00:00,  8.25 file/s]"
          }
        },
        "995e4791fb824d39a3300a735c169331": {
          "model_module": "@jupyter-widgets/base",
          "model_name": "LayoutModel",
          "model_module_version": "1.2.0",
          "state": {
            "_model_module": "@jupyter-widgets/base",
            "_model_module_version": "1.2.0",
            "_model_name": "LayoutModel",
            "_view_count": null,
            "_view_module": "@jupyter-widgets/base",
            "_view_module_version": "1.2.0",
            "_view_name": "LayoutView",
            "align_content": null,
            "align_items": null,
            "align_self": null,
            "border": null,
            "bottom": null,
            "display": null,
            "flex": null,
            "flex_flow": null,
            "grid_area": null,
            "grid_auto_columns": null,
            "grid_auto_flow": null,
            "grid_auto_rows": null,
            "grid_column": null,
            "grid_gap": null,
            "grid_row": null,
            "grid_template_areas": null,
            "grid_template_columns": null,
            "grid_template_rows": null,
            "height": null,
            "justify_content": null,
            "justify_items": null,
            "left": null,
            "margin": null,
            "max_height": null,
            "max_width": null,
            "min_height": null,
            "min_width": null,
            "object_fit": null,
            "object_position": null,
            "order": null,
            "overflow": null,
            "overflow_x": null,
            "overflow_y": null,
            "padding": null,
            "right": null,
            "top": null,
            "visibility": null,
            "width": null
          }
        },
        "c5748bf5479844ae9ff4ea5f237d2e6f": {
          "model_module": "@jupyter-widgets/base",
          "model_name": "LayoutModel",
          "model_module_version": "1.2.0",
          "state": {
            "_model_module": "@jupyter-widgets/base",
            "_model_module_version": "1.2.0",
            "_model_name": "LayoutModel",
            "_view_count": null,
            "_view_module": "@jupyter-widgets/base",
            "_view_module_version": "1.2.0",
            "_view_name": "LayoutView",
            "align_content": null,
            "align_items": null,
            "align_self": null,
            "border": null,
            "bottom": null,
            "display": null,
            "flex": null,
            "flex_flow": null,
            "grid_area": null,
            "grid_auto_columns": null,
            "grid_auto_flow": null,
            "grid_auto_rows": null,
            "grid_column": null,
            "grid_gap": null,
            "grid_row": null,
            "grid_template_areas": null,
            "grid_template_columns": null,
            "grid_template_rows": null,
            "height": null,
            "justify_content": null,
            "justify_items": null,
            "left": null,
            "margin": null,
            "max_height": null,
            "max_width": null,
            "min_height": null,
            "min_width": null,
            "object_fit": null,
            "object_position": null,
            "order": null,
            "overflow": null,
            "overflow_x": null,
            "overflow_y": null,
            "padding": null,
            "right": null,
            "top": null,
            "visibility": null,
            "width": null
          }
        },
        "e0a9aebc51e94caab170ec72d23f07b0": {
          "model_module": "@jupyter-widgets/controls",
          "model_name": "DescriptionStyleModel",
          "model_module_version": "1.5.0",
          "state": {
            "_model_module": "@jupyter-widgets/controls",
            "_model_module_version": "1.5.0",
            "_model_name": "DescriptionStyleModel",
            "_view_count": null,
            "_view_module": "@jupyter-widgets/base",
            "_view_module_version": "1.2.0",
            "_view_name": "StyleView",
            "description_width": ""
          }
        },
        "696f998a42ab4431b5f3c15e9c472c60": {
          "model_module": "@jupyter-widgets/base",
          "model_name": "LayoutModel",
          "model_module_version": "1.2.0",
          "state": {
            "_model_module": "@jupyter-widgets/base",
            "_model_module_version": "1.2.0",
            "_model_name": "LayoutModel",
            "_view_count": null,
            "_view_module": "@jupyter-widgets/base",
            "_view_module_version": "1.2.0",
            "_view_name": "LayoutView",
            "align_content": null,
            "align_items": null,
            "align_self": null,
            "border": null,
            "bottom": null,
            "display": null,
            "flex": null,
            "flex_flow": null,
            "grid_area": null,
            "grid_auto_columns": null,
            "grid_auto_flow": null,
            "grid_auto_rows": null,
            "grid_column": null,
            "grid_gap": null,
            "grid_row": null,
            "grid_template_areas": null,
            "grid_template_columns": null,
            "grid_template_rows": null,
            "height": null,
            "justify_content": null,
            "justify_items": null,
            "left": null,
            "margin": null,
            "max_height": null,
            "max_width": null,
            "min_height": null,
            "min_width": null,
            "object_fit": null,
            "object_position": null,
            "order": null,
            "overflow": null,
            "overflow_x": null,
            "overflow_y": null,
            "padding": null,
            "right": null,
            "top": null,
            "visibility": null,
            "width": null
          }
        },
        "38bb12ebbaf84925b2547c295558a7a9": {
          "model_module": "@jupyter-widgets/controls",
          "model_name": "ProgressStyleModel",
          "model_module_version": "1.5.0",
          "state": {
            "_model_module": "@jupyter-widgets/controls",
            "_model_module_version": "1.5.0",
            "_model_name": "ProgressStyleModel",
            "_view_count": null,
            "_view_module": "@jupyter-widgets/base",
            "_view_module_version": "1.2.0",
            "_view_name": "StyleView",
            "bar_color": null,
            "description_width": ""
          }
        },
        "bb8f8ba8f0114b5890c37e9cd024cc5a": {
          "model_module": "@jupyter-widgets/base",
          "model_name": "LayoutModel",
          "model_module_version": "1.2.0",
          "state": {
            "_model_module": "@jupyter-widgets/base",
            "_model_module_version": "1.2.0",
            "_model_name": "LayoutModel",
            "_view_count": null,
            "_view_module": "@jupyter-widgets/base",
            "_view_module_version": "1.2.0",
            "_view_name": "LayoutView",
            "align_content": null,
            "align_items": null,
            "align_self": null,
            "border": null,
            "bottom": null,
            "display": null,
            "flex": null,
            "flex_flow": null,
            "grid_area": null,
            "grid_auto_columns": null,
            "grid_auto_flow": null,
            "grid_auto_rows": null,
            "grid_column": null,
            "grid_gap": null,
            "grid_row": null,
            "grid_template_areas": null,
            "grid_template_columns": null,
            "grid_template_rows": null,
            "height": null,
            "justify_content": null,
            "justify_items": null,
            "left": null,
            "margin": null,
            "max_height": null,
            "max_width": null,
            "min_height": null,
            "min_width": null,
            "object_fit": null,
            "object_position": null,
            "order": null,
            "overflow": null,
            "overflow_x": null,
            "overflow_y": null,
            "padding": null,
            "right": null,
            "top": null,
            "visibility": null,
            "width": null
          }
        },
        "e4fc179b94ef4db7b31f07204179dd33": {
          "model_module": "@jupyter-widgets/controls",
          "model_name": "DescriptionStyleModel",
          "model_module_version": "1.5.0",
          "state": {
            "_model_module": "@jupyter-widgets/controls",
            "_model_module_version": "1.5.0",
            "_model_name": "DescriptionStyleModel",
            "_view_count": null,
            "_view_module": "@jupyter-widgets/base",
            "_view_module_version": "1.2.0",
            "_view_name": "StyleView",
            "description_width": ""
          }
        }
      }
    }
  },
  "nbformat": 4,
  "nbformat_minor": 5
}